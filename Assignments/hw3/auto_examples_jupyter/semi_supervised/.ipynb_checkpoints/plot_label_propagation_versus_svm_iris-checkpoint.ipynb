{
 "cells": [
  {
   "cell_type": "code",
   "execution_count": null,
   "metadata": {},
   "outputs": [],
   "source": [
    "%matplotlib inline"
   ]
  },
  {
   "cell_type": "markdown",
   "metadata": {},
   "source": [
    "\n",
    "# Decision boundary of label propagation versus SVM on the Iris dataset\n",
    "\n",
    "\n",
    "Comparison for decision boundary generated on iris dataset\n",
    "between Label Propagation and SVM.\n",
    "\n",
    "This demonstrates Label Propagation learning a good boundary\n",
    "even with a small amount of labeled data.\n",
    "\n",
    "\n"
   ]
  },
  {
   "cell_type": "code",
   "execution_count": null,
   "metadata": {},
   "outputs": [],
   "source": [
    "print(__doc__)\n",
    "\n",
    "# Authors: Clay Woolam <clay@woolam.org>\n",
    "# License: BSD\n",
    "\n",
    "import numpy as np\n",
    "import matplotlib.pyplot as plt\n",
    "from sklearn import datasets\n",
    "from sklearn import svm\n",
    "from sklearn.semi_supervised import label_propagation\n",
    "\n",
    "rng = np.random.RandomState(0)\n",
    "\n",
    "iris = datasets.load_iris()\n",
    "\n",
    "X = iris.data[:, :2]\n",
    "y = iris.target\n",
    "\n",
    "# step size in the mesh\n",
    "h = .02\n",
    "\n",
    "y_30 = np.copy(y)\n",
    "y_30[rng.rand(len(y)) < 0.3] = -1\n",
    "y_50 = np.copy(y)\n",
    "y_50[rng.rand(len(y)) < 0.5] = -1\n",
    "# we create an instance of SVM and fit out data. We do not scale our\n",
    "# data since we want to plot the support vectors\n",
    "ls30 = (label_propagation.LabelSpreading().fit(X, y_30),\n",
    "        y_30)\n",
    "ls50 = (label_propagation.LabelSpreading().fit(X, y_50),\n",
    "        y_50)\n",
    "ls100 = (label_propagation.LabelSpreading().fit(X, y), y)\n",
    "rbf_svc = (svm.SVC(kernel='rbf').fit(X, y), y)\n",
    "\n",
    "# create a mesh to plot in\n",
    "x_min, x_max = X[:, 0].min() - 1, X[:, 0].max() + 1\n",
    "y_min, y_max = X[:, 1].min() - 1, X[:, 1].max() + 1\n",
    "xx, yy = np.meshgrid(np.arange(x_min, x_max, h),\n",
    "                     np.arange(y_min, y_max, h))\n",
    "\n",
    "# title for the plots\n",
    "titles = ['Label Spreading 30% data',\n",
    "          'Label Spreading 50% data',\n",
    "          'Label Spreading 100% data',\n",
    "          'SVC with rbf kernel']\n",
    "\n",
    "color_map = {-1: (1, 1, 1), 0: (0, 0, .9), 1: (1, 0, 0), 2: (.8, .6, 0)}\n",
    "\n",
    "for i, (clf, y_train) in enumerate((ls30, ls50, ls100, rbf_svc)):\n",
    "    # Plot the decision boundary. For that, we will assign a color to each\n",
    "    # point in the mesh [x_min, x_max]x[y_min, y_max].\n",
    "    plt.subplot(2, 2, i + 1)\n",
    "    Z = clf.predict(np.c_[xx.ravel(), yy.ravel()])\n",
    "\n",
    "    # Put the result into a color plot\n",
    "    Z = Z.reshape(xx.shape)\n",
    "    plt.contourf(xx, yy, Z, cmap=plt.cm.Paired)\n",
    "    plt.axis('off')\n",
    "\n",
    "    # Plot also the training points\n",
    "    colors = [color_map[y] for y in y_train]\n",
    "    plt.scatter(X[:, 0], X[:, 1], c=colors, edgecolors='black')\n",
    "\n",
    "    plt.title(titles[i])\n",
    "\n",
    "plt.suptitle(\"Unlabeled points are colored white\", y=0.1)\n",
    "plt.show()"
   ]
  }
 ],
 "metadata": {
  "kernelspec": {
   "display_name": "Python 3",
   "language": "python",
   "name": "python3"
  },
  "language_info": {
   "codemirror_mode": {
    "name": "ipython",
    "version": 3
   },
   "file_extension": ".py",
   "mimetype": "text/x-python",
   "name": "python",
   "nbconvert_exporter": "python",
   "pygments_lexer": "ipython3",
   "version": "3.7.3"
  }
 },
 "nbformat": 4,
 "nbformat_minor": 1
}
